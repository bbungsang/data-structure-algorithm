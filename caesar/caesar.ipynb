{
 "cells": [
  {
   "cell_type": "code",
   "execution_count": 1,
   "metadata": {
    "collapsed": true
   },
   "outputs": [],
   "source": [
    "import string"
   ]
  },
  {
   "cell_type": "code",
   "execution_count": 2,
   "metadata": {},
   "outputs": [],
   "source": [
    "# 내 풀이\n",
    "def my_caesar(st, n):\n",
    "    s = list(x for x in st)\n",
    "    upper = string.ascii_uppercase\n",
    "    lower = string.ascii_lowercase\n",
    "    if n > 25:\n",
    "        n %= 26\n",
    "    for i in range(len(s)):\n",
    "        if s[i] in upper:\n",
    "            if upper.index(s[i])+n > 25:\n",
    "                s[i] = upper[n-(26-upper.index(s[i]))]\n",
    "            else:\n",
    "                s[i] = upper[upper.index(s[i])+n]\n",
    "        elif s[i] in lower:\n",
    "            if lower.index(s[i])+n > 25:\n",
    "                s[i] = lower[n-(26-lower.index(s[i]))]\n",
    "            else:\n",
    "                s[i] = lower[lower.index(s[i])+n]\n",
    "    return \"\".join(s)"
   ]
  },
  {
   "cell_type": "code",
   "execution_count": 3,
   "metadata": {},
   "outputs": [
    {
     "data": {
      "text/plain": [
       "'f G e y B'"
      ]
     },
     "execution_count": 3,
     "metadata": {},
     "output_type": "execute_result"
    }
   ],
   "source": [
    "my_caesar('a B z t W', 31)"
   ]
  },
  {
   "cell_type": "code",
   "execution_count": 4,
   "metadata": {},
   "outputs": [
    {
     "data": {
      "text/plain": [
       "'d Ec ihw Z'"
      ]
     },
     "execution_count": 4,
     "metadata": {},
     "output_type": "execute_result"
    }
   ],
   "source": [
    "my_caesar('a Bz fet W', 55)"
   ]
  },
  {
   "cell_type": "code",
   "execution_count": 5,
   "metadata": {
    "collapsed": true
   },
   "outputs": [],
   "source": [
    "# 다른 사람 풀이\n",
    "def other_caesar(s, n):\n",
    "    result = \"\"\n",
    "    for ch in s:\n",
    "        if ch == ' ':\n",
    "            result = result + ch\n",
    "            continue\n",
    "        enc = ord(ch) + n\n",
    "        if ch.isupper():\n",
    "            enc = (ord(ch) - ord('A') + n) % 26 + ord('A')\n",
    "        elif ch.islower():\n",
    "            enc = (ord(ch) - ord('a') + n) % 26 + ord('a')\n",
    "        result = result + chr(enc)\n",
    "\n",
    "    return result"
   ]
  },
  {
   "cell_type": "code",
   "execution_count": 6,
   "metadata": {},
   "outputs": [
    {
     "data": {
      "text/plain": [
       "'f G e y B'"
      ]
     },
     "execution_count": 6,
     "metadata": {},
     "output_type": "execute_result"
    }
   ],
   "source": [
    "other_caesar('a B z t W', 31)"
   ]
  },
  {
   "cell_type": "code",
   "execution_count": 7,
   "metadata": {},
   "outputs": [
    {
     "data": {
      "text/plain": [
       "'d Ec ihw Z'"
      ]
     },
     "execution_count": 7,
     "metadata": {},
     "output_type": "execute_result"
    }
   ],
   "source": [
    "other_caesar('a Bz fet W', 55)"
   ]
  }
 ],
 "metadata": {
  "kernelspec": {
   "display_name": "Python 3",
   "language": "python",
   "name": "python3"
  },
  "language_info": {
   "codemirror_mode": {
    "name": "ipython",
    "version": 3
   },
   "file_extension": ".py",
   "mimetype": "text/x-python",
   "name": "python",
   "nbconvert_exporter": "python",
   "pygments_lexer": "ipython3",
   "version": "3.6.1"
  }
 },
 "nbformat": 4,
 "nbformat_minor": 2
}
