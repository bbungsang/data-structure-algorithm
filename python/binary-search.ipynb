{
 "cells": [
  {
   "cell_type": "code",
   "execution_count": 1,
   "metadata": {},
   "outputs": [
    {
     "name": "stdout",
     "output_type": "stream",
     "text": [
      "찾는 데이터 4 의 인덱스는 4 입니다.\n"
     ]
    }
   ],
   "source": [
    "def binary_search(data, target):\n",
    "    start = 0\n",
    "    end = len(data) - 1\n",
    "\n",
    "    while start <= end:\n",
    "        mid = (start + end) // 2\n",
    "        if target == data[mid]:\n",
    "            return mid\n",
    "        elif target < data[mid]:\n",
    "            end = mid - 1\n",
    "        else:\n",
    "            start = mid + 1\n",
    "    return None\n",
    "\n",
    "if __name__ == \"__main__\":\n",
    "    data = [i for i in range(10)]\n",
    "    target = 4\n",
    "    idx = binary_search(data, target)\n",
    "    \n",
    "    if idx == None:\n",
    "        print(\"{} 이 존재하지 않습니다.\".format(target))\n",
    "    else:\n",
    "        print(\"찾는 데이터 {} 의 인덱스는 {} 입니다.\".format(data[idx], idx))"
   ]
  },
  {
   "cell_type": "code",
   "execution_count": null,
   "metadata": {
    "collapsed": true
   },
   "outputs": [],
   "source": []
  }
 ],
 "metadata": {
  "kernelspec": {
   "display_name": "Python 3",
   "language": "python",
   "name": "python3"
  },
  "language_info": {
   "codemirror_mode": {
    "name": "ipython",
    "version": 3
   },
   "file_extension": ".py",
   "mimetype": "text/x-python",
   "name": "python",
   "nbconvert_exporter": "python",
   "pygments_lexer": "ipython3",
   "version": "3.6.1"
  }
 },
 "nbformat": 4,
 "nbformat_minor": 2
}
