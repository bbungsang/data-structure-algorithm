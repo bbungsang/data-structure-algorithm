{
 "cells": [
  {
   "cell_type": "code",
   "execution_count": 1,
   "metadata": {},
   "outputs": [
    {
     "name": "stdout",
     "output_type": "stream",
     "text": [
      "찾는 데이터 4 의 인덱스는 5 입니다.\n"
     ]
    }
   ],
   "source": [
    "# 요소 하나 마다 for 문으로 순회를 하면서 if 문으로 탐색\n",
    "\n",
    "def linear_search(data, target):\n",
    "    for idx in range(len(data)):\n",
    "        if data[idx] == target:\n",
    "            return idx\n",
    "    return None\n",
    "\n",
    "if __name__ == \"__main__\":\n",
    "    data = [i for i in range(10)]\n",
    "    target = 4\n",
    "    idx= linear_search(data, target)\n",
    "    \n",
    "    if idx == None:\n",
    "        print(\"{} 이 존재하지 않습니다.\".format(target))\n",
    "    else:\n",
    "        print(\"찾는 데이터 {} 의 인덱스는 {} 입니다.\".format(data[idx], idx+1))"
   ]
  },
  {
   "cell_type": "code",
   "execution_count": null,
   "metadata": {
    "collapsed": true
   },
   "outputs": [],
   "source": []
  }
 ],
 "metadata": {
  "kernelspec": {
   "display_name": "Python 3",
   "language": "python",
   "name": "python3"
  },
  "language_info": {
   "codemirror_mode": {
    "name": "ipython",
    "version": 3
   },
   "file_extension": ".py",
   "mimetype": "text/x-python",
   "name": "python",
   "nbconvert_exporter": "python",
   "pygments_lexer": "ipython3",
   "version": "3.6.1"
  }
 },
 "nbformat": 4,
 "nbformat_minor": 2
}
