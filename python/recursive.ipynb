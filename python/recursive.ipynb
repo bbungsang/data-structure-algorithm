{
 "cells": [
  {
   "cell_type": "code",
   "execution_count": 1,
   "metadata": {},
   "outputs": [
    {
     "data": {
      "text/plain": [
       "120"
      ]
     },
     "execution_count": 1,
     "metadata": {},
     "output_type": "execute_result"
    }
   ],
   "source": [
    "def factorial(n):\n",
    "    # 탈출 조건\n",
    "    if n <= 1:\n",
    "        return 1\n",
    "    return n * factorial(n-1)\n",
    "\n",
    "factorial(5)"
   ]
  },
  {
   "cell_type": "code",
   "execution_count": 2,
   "metadata": {},
   "outputs": [
    {
     "data": {
      "text/plain": [
       "8"
      ]
     },
     "execution_count": 2,
     "metadata": {},
     "output_type": "execute_result"
    }
   ],
   "source": [
    "def fibo(n):\n",
    "    if n== 0 or n == 1:\n",
    "        return 1\n",
    "    return fibo(n-2) + fibo(n-1)\n",
    "\n",
    "fibo(5)"
   ]
  },
  {
   "cell_type": "code",
   "execution_count": 3,
   "metadata": {},
   "outputs": [
    {
     "name": "stdout",
     "output_type": "stream",
     "text": [
      "1  1  2  3  5  8  13  21  34  55  "
     ]
    }
   ],
   "source": [
    "# 제너레이터 : 게으른 연산\n",
    "def fibo_gen(n):\n",
    "    a = b = 1\n",
    "    for i in range(n):\n",
    "        yield a\n",
    "        a, b = b, a+b\n",
    "        \n",
    "if __name__ == \"__main__\":\n",
    "    f = fibo_gen(10)\n",
    "    for i in range(10):\n",
    "        print(next(f), end = '  ')\n",
    "        # next 를 통해서 요구를 할 때만 값을 반환 = '게으른 연산' = 메모리 활용에 굉장한 이점이 있다."
   ]
  },
  {
   "cell_type": "code",
   "execution_count": null,
   "metadata": {},
   "outputs": [
    {
     "name": "stdout",
     "output_type": "stream",
     "text": [
      "원반의 개수를 입력하세요!(종료 : 0) :3\n",
      "A에서 C로 1번째 원반 이동\n",
      "A에서 B로 2번째 원반 이동\n",
      "C에서 B로 1번째 원반 이동\n",
      "A에서 C로 3번째 원반 이동\n",
      "B에서 A로 1번째 원반 이동\n",
      "B에서 C로 2번째 원반 이동\n",
      "A에서 C로 1번째 원반 이동\n",
      "원반의 개수를 입력하세요!(종료 : 0) :2\n",
      "A에서 B로 1번째 원반 이동\n",
      "A에서 C로 2번째 원반 이동\n",
      "B에서 C로 1번째 원반 이동\n",
      "원반의 개수를 입력하세요!(종료 : 0) :1\n",
      "A에서 C로 1번째 원반 이동\n"
     ]
    }
   ],
   "source": [
    "def hanoi(num, _from, _by, _to):\n",
    "    # 탈출 조건\n",
    "    if num == 1:\n",
    "        print(\"{}에서 {}로 {}번째 원반 이동\".format(_from, _to, num))\n",
    "        return \n",
    "    hanoi(num-1, _from, _to, _by)\n",
    "    print(\"{}에서 {}로 {}번째 원반 이동\".format(_from, _to, num))\n",
    "    hanoi(num-1, _by, _from, _to)\n",
    "    \n",
    "if __name__ == \"__main__\":\n",
    "    while 1:\n",
    "        numOfTray = int(input(\"원반의 개수를 입력하세요!(종료 : 0) :\"))\n",
    "        if numOfTray == 0:\n",
    "            break\n",
    "        hanoi(numOfTray, 'A', 'B', 'C')\n",
    "        \n",
    "\"\"\"\n",
    "맨 아래 바로 위 선반들을 순차적으로 by 로 모두 이동시키고,\n",
    "맨 아래 선반은 to 로 이동한다.\n",
    "\n",
    "또 by 에 있는 선반들을 기준으로 from 으로 삼아서 다시 맨 아래 선반은 기존 to 로 이동,\n",
    "나머지 선반은 순차적으로 기존 from 현재 by 로 이동시킨다.\n",
    "\n",
    "to 만 고정, from 과 by 만 바꾸면서 선반을 이동시킨다.\n",
    "\"\"\""
   ]
  },
  {
   "cell_type": "code",
   "execution_count": null,
   "metadata": {
    "collapsed": true
   },
   "outputs": [],
   "source": []
  }
 ],
 "metadata": {
  "kernelspec": {
   "display_name": "Python 3",
   "language": "python",
   "name": "python3"
  },
  "language_info": {
   "codemirror_mode": {
    "name": "ipython",
    "version": 3
   },
   "file_extension": ".py",
   "mimetype": "text/x-python",
   "name": "python",
   "nbconvert_exporter": "python",
   "pygments_lexer": "ipython3",
   "version": "3.6.1"
  }
 },
 "nbformat": 4,
 "nbformat_minor": 2
}
